{
 "cells": [
  {
   "cell_type": "code",
   "execution_count": null,
   "id": "cdb63aa9",
   "metadata": {},
   "outputs": [],
   "source": [
    "from annotators import SE_SpellErrorAnnotator\n",
    "from cas_visualizer.visualizer import SpacySpanVisualiser\n",
    "from IPython.display import display, HTML\n",
    "from dkpro import T_ANOMALY, T_TOKEN, T_SENT\n",
    "from util import load_lift_typesystem\n",
    "from cassis import Cas\n",
    "\n",
    "\n",
    "spacy_span_vis = SpacySpanVisualiser(cas, [])\n",
    "\n",
    "spacy_span_vis.set_selected_annotations_to_types({'SE': T_ANOMALY})\n",
    "spacy_span_vis.set_annotations_to_colors({'SE': 'lightgreen'})\n",
    "spacy_span_vis.set_span_type(SpacySpanVisualiser.SPAN_STYLE_UNDERLINING)\n",
    "\n",
    "html = spacy_span_vis.visualise()\n",
    "display(HTML(html))\n",
    "\n"
   ]
  }
 ],
 "metadata": {
  "language_info": {
   "name": "python"
  }
 },
 "nbformat": 4,
 "nbformat_minor": 5
}
