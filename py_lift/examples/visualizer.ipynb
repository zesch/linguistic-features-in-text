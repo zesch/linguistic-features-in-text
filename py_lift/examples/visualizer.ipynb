{
 "cells": [
  {
   "cell_type": "code",
   "execution_count": null,
   "id": "13cfe18c",
   "metadata": {},
   "outputs": [
    {
     "name": "stderr",
     "output_type": "stream",
     "text": [
      "/Users/zesch/git/linguistic-features-in-text/py_lift/.venv/lib/python3.11/site-packages/cassis/typesystem.py:653: UserWarning: Feature with name [value] already exists in parent!\n",
      "  warnings.warn(msg)\n"
     ]
    },
    {
     "data": {
      "text/html": [
       "\n",
       "<div class=\"entities\" style=\"line-height: 2.5; direction: ltr\">This is a \n",
       "<mark class=\"entity\" style=\"background: lightgreen; padding: 0.45em 0.6em; margin: 0 0.25em; line-height: 1; border-radius: 0.35em;\">\n",
       "    tast\n",
       "    <span style=\"font-size: 0.8em; font-weight: bold; line-height: 1; border-radius: 0.35em; vertical-align: middle; margin-left: 0.5rem\">E</span>\n",
       "</mark>\n",
       ". A \n",
       "<mark class=\"entity\" style=\"background: lightgreen; padding: 0.45em 0.6em; margin: 0 0.25em; line-height: 1; border-radius: 0.35em;\">\n",
       "    smoll\n",
       "    <span style=\"font-size: 0.8em; font-weight: bold; line-height: 1; border-radius: 0.35em; vertical-align: middle; margin-left: 0.5rem\">E</span>\n",
       "</mark>\n",
       " one.</div>\n"
      ],
      "text/plain": [
       "<IPython.core.display.HTML object>"
      ]
     },
     "metadata": {},
     "output_type": "display_data"
    }
   ],
   "source": [
    "from annotators import SE_SpellErrorAnnotator\n",
    "from cas_visualizer.visualizer import SpacySpanVisualiser\n",
    "from IPython.display import display, HTML\n",
    "from dkpro import T_ANOMALY, T_TOKEN, T_SENT\n",
    "from util import load_lift_typesystem\n",
    "from cassis import Cas\n",
    "\n",
    "def test_cas() -> Cas:\n",
    "    ts = load_lift_typesystem()\n",
    "    cas = Cas(ts)\n",
    "    cas.sofa_string = \"This is a tast. A smoll one.\"\n",
    "\n",
    "    T = ts.get_type(T_TOKEN)\n",
    "    tokens = [\n",
    "        T(begin=0, end=4),\n",
    "        T(begin=5, end=7),\n",
    "        T(begin=8, end=9),\n",
    "        T(begin=10, end=14),\n",
    "        T(begin=16, end=17),\n",
    "        T(begin=18, end=23),\n",
    "        T(begin=24, end=27)\n",
    "    ]\n",
    "    cas.add_all(tokens)\n",
    "\n",
    "    S = ts.get_type(T_SENT)\n",
    "    \n",
    "    sentences = [\n",
    "        S(begin=0, end=15, id=\"0\"),\n",
    "        S(begin=16, end=27, id=\"1\")\n",
    "    ]\n",
    "    cas.add_all(sentences)\n",
    "\n",
    "    return cas\n",
    "\n",
    "# Create an instance of the spell error annotator\n",
    "annotator = SE_SpellErrorAnnotator(language='en')\n",
    "\n",
    "cas = test_cas()\n",
    "\n",
    "# Annotate the sample cas\n",
    "annotator.process(cas)\n",
    "\n",
    "spacy_span_vis = SpacySpanVisualiser(cas, [])\n",
    "\n",
    "spacy_span_vis.set_selected_annotations_to_types({'E': T_ANOMALY})\n",
    "spacy_span_vis.set_annotations_to_colors({'E': 'lightgreen'})\n",
    "spacy_span_vis.set_span_type(SpacySpanVisualiser.SPAN_STYLE_HIGHLIGHTING)\n",
    "\n",
    "html = spacy_span_vis.visualise()\n",
    "display(HTML(html))\n",
    "\n"
   ]
  }
 ],
 "metadata": {
  "kernelspec": {
   "display_name": "py-lift-py3.11",
   "language": "python",
   "name": "python3"
  },
  "language_info": {
   "codemirror_mode": {
    "name": "ipython",
    "version": 3
   },
   "file_extension": ".py",
   "mimetype": "text/x-python",
   "name": "python",
   "nbconvert_exporter": "python",
   "pygments_lexer": "ipython3",
   "version": "3.11.10"
  }
 },
 "nbformat": 4,
 "nbformat_minor": 5
}
